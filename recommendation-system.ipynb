{
 "cells": [
  {
   "cell_type": "code",
   "execution_count": 2,
   "id": "f6c65859",
   "metadata": {
    "execution": {
     "iopub.execute_input": "2022-06-24T12:07:37.406972Z",
     "iopub.status.busy": "2022-06-24T12:07:37.406430Z",
     "iopub.status.idle": "2022-06-24T12:07:38.551359Z",
     "shell.execute_reply": "2022-06-24T12:07:38.550316Z"
    },
    "papermill": {
     "duration": 1.156345,
     "end_time": "2022-06-24T12:07:38.553593",
     "exception": false,
     "start_time": "2022-06-24T12:07:37.397248",
     "status": "completed"
    },
    "tags": []
   },
   "outputs": [],
   "source": [
    "import numpy as np \n",
    "import pandas as pd \n",
    "import matplotlib.pyplot as plt\n",
    "import seaborn as sns"
   ]
  },
  {
   "cell_type": "markdown",
   "id": "126ae70e",
   "metadata": {
    "papermill": {
     "duration": 0.007514,
     "end_time": "2022-06-24T12:07:38.568184",
     "exception": false,
     "start_time": "2022-06-24T12:07:38.560670",
     "status": "completed"
    },
    "tags": []
   },
   "source": [
    "<a id=\"34\"></a>\n",
    "\n",
    "\n",
    "<font color='purple'>\n",
    "      \n",
    "      \n",
    "# Content:\n",
    "1. [LOAD and FIRST LOOK to DATA](#1)\n",
    "1. [MISSING VALUES](#2)\n",
    "1. [VARIABLE ANALYSIS](#3)\n",
    "    * [Categorical Variables](#4)\n",
    "    * [Numerical Variable](#5)\n",
    "1. [VISUALIZATION](#6)\n",
    "1. [RECOMMENDATION SYSTEM](#7)"
   ]
  },
  {
   "cell_type": "markdown",
   "id": "3350508f",
   "metadata": {
    "papermill": {
     "duration": 0.007742,
     "end_time": "2022-06-24T12:07:38.583230",
     "exception": false,
     "start_time": "2022-06-24T12:07:38.575488",
     "status": "completed"
    },
    "tags": []
   },
   "source": [
    "<a id=\"1\"></a>\n",
    "\n",
    "# LOAD and FIRST LOOK to DATA"
   ]
  },
  {
   "cell_type": "code",
   "execution_count": 3,
   "id": "2ba611f6",
   "metadata": {
    "execution": {
     "iopub.execute_input": "2022-06-24T12:07:38.599699Z",
     "iopub.status.busy": "2022-06-24T12:07:38.598914Z",
     "iopub.status.idle": "2022-06-24T12:07:50.642107Z",
     "shell.execute_reply": "2022-06-24T12:07:50.641063Z"
    },
    "papermill": {
     "duration": 12.055255,
     "end_time": "2022-06-24T12:07:50.645747",
     "exception": false,
     "start_time": "2022-06-24T12:07:38.590492",
     "status": "completed"
    },
    "tags": []
   },
   "outputs": [
    {
     "data": {
      "text/html": [
       "<div>\n",
       "<style scoped>\n",
       "    .dataframe tbody tr th:only-of-type {\n",
       "        vertical-align: middle;\n",
       "    }\n",
       "\n",
       "    .dataframe tbody tr th {\n",
       "        vertical-align: top;\n",
       "    }\n",
       "\n",
       "    .dataframe thead th {\n",
       "        text-align: right;\n",
       "    }\n",
       "</style>\n",
       "<table border=\"1\" class=\"dataframe\">\n",
       "  <thead>\n",
       "    <tr style=\"text-align: right;\">\n",
       "      <th></th>\n",
       "      <th>item_id</th>\n",
       "      <th>rating</th>\n",
       "      <th>model_attr</th>\n",
       "      <th>category</th>\n",
       "      <th>year</th>\n",
       "    </tr>\n",
       "  </thead>\n",
       "  <tbody>\n",
       "    <tr>\n",
       "      <th>0</th>\n",
       "      <td>0</td>\n",
       "      <td>5.0</td>\n",
       "      <td>Female</td>\n",
       "      <td>Portable Audio &amp; Video</td>\n",
       "      <td>1999</td>\n",
       "    </tr>\n",
       "    <tr>\n",
       "      <th>1</th>\n",
       "      <td>0</td>\n",
       "      <td>5.0</td>\n",
       "      <td>Female</td>\n",
       "      <td>Portable Audio &amp; Video</td>\n",
       "      <td>1999</td>\n",
       "    </tr>\n",
       "    <tr>\n",
       "      <th>2</th>\n",
       "      <td>0</td>\n",
       "      <td>3.0</td>\n",
       "      <td>Female</td>\n",
       "      <td>Portable Audio &amp; Video</td>\n",
       "      <td>1999</td>\n",
       "    </tr>\n",
       "    <tr>\n",
       "      <th>3</th>\n",
       "      <td>0</td>\n",
       "      <td>1.0</td>\n",
       "      <td>Female</td>\n",
       "      <td>Portable Audio &amp; Video</td>\n",
       "      <td>1999</td>\n",
       "    </tr>\n",
       "    <tr>\n",
       "      <th>4</th>\n",
       "      <td>0</td>\n",
       "      <td>2.0</td>\n",
       "      <td>Female</td>\n",
       "      <td>Portable Audio &amp; Video</td>\n",
       "      <td>1999</td>\n",
       "    </tr>\n",
       "  </tbody>\n",
       "</table>\n",
       "</div>"
      ],
      "text/plain": [
       "   item_id  rating model_attr                category  year\n",
       "0        0     5.0     Female  Portable Audio & Video  1999\n",
       "1        0     5.0     Female  Portable Audio & Video  1999\n",
       "2        0     3.0     Female  Portable Audio & Video  1999\n",
       "3        0     1.0     Female  Portable Audio & Video  1999\n",
       "4        0     2.0     Female  Portable Audio & Video  1999"
      ]
     },
     "execution_count": 3,
     "metadata": {},
     "output_type": "execute_result"
    }
   ],
   "source": [
    "Data=pd.read_csv(\"../input/electronics/electronics.csv\",usecols=[\"item_id\",\"rating\",\"model_attr\",\"category\",\"year\"])\n",
    "ForUSer=pd.read_csv(\"../input/movielens-20m-dataset/rating.csv\",usecols=[\"userId\"])\n",
    "ForUSer.head()\n",
    "Data.head()"
   ]
  },
  {
   "cell_type": "code",
   "execution_count": 4,
   "id": "a1617510",
   "metadata": {
    "execution": {
     "iopub.execute_input": "2022-06-24T12:07:50.668696Z",
     "iopub.status.busy": "2022-06-24T12:07:50.668299Z",
     "iopub.status.idle": "2022-06-24T12:07:52.854281Z",
     "shell.execute_reply": "2022-06-24T12:07:52.853376Z"
    },
    "papermill": {
     "duration": 2.198115,
     "end_time": "2022-06-24T12:07:52.856090",
     "exception": false,
     "start_time": "2022-06-24T12:07:50.657975",
     "status": "completed"
    },
    "tags": []
   },
   "outputs": [
    {
     "data": {
      "text/plain": [
       "list"
      ]
     },
     "execution_count": 4,
     "metadata": {},
     "output_type": "execute_result"
    }
   ],
   "source": [
    "user=list(ForUSer[\"userId\"])\n",
    "type(user)"
   ]
  },
  {
   "cell_type": "code",
   "execution_count": 5,
   "id": "b8e029db",
   "metadata": {
    "execution": {
     "iopub.execute_input": "2022-06-24T12:07:52.872292Z",
     "iopub.status.busy": "2022-06-24T12:07:52.871756Z",
     "iopub.status.idle": "2022-06-24T12:07:53.741103Z",
     "shell.execute_reply": "2022-06-24T12:07:53.740058Z"
    },
    "papermill": {
     "duration": 0.880098,
     "end_time": "2022-06-24T12:07:53.743403",
     "exception": false,
     "start_time": "2022-06-24T12:07:52.863305",
     "status": "completed"
    },
    "tags": []
   },
   "outputs": [
    {
     "data": {
      "text/plain": [
       "list"
      ]
     },
     "execution_count": 5,
     "metadata": {},
     "output_type": "execute_result"
    }
   ],
   "source": [
    "import random\n",
    "user=random.choices(user,k=1292954)\n",
    "type(user)"
   ]
  },
  {
   "cell_type": "code",
   "execution_count": 6,
   "id": "99cdf385",
   "metadata": {
    "execution": {
     "iopub.execute_input": "2022-06-24T12:07:53.760177Z",
     "iopub.status.busy": "2022-06-24T12:07:53.759785Z",
     "iopub.status.idle": "2022-06-24T12:07:54.568544Z",
     "shell.execute_reply": "2022-06-24T12:07:54.567611Z"
    },
    "papermill": {
     "duration": 0.820096,
     "end_time": "2022-06-24T12:07:54.570827",
     "exception": false,
     "start_time": "2022-06-24T12:07:53.750731",
     "status": "completed"
    },
    "tags": []
   },
   "outputs": [],
   "source": [
    "userId=pd.DataFrame(user,columns=[\"userId\"])"
   ]
  },
  {
   "cell_type": "code",
   "execution_count": 7,
   "id": "f5a00363",
   "metadata": {
    "execution": {
     "iopub.execute_input": "2022-06-24T12:07:54.587403Z",
     "iopub.status.busy": "2022-06-24T12:07:54.587036Z",
     "iopub.status.idle": "2022-06-24T12:07:54.595971Z",
     "shell.execute_reply": "2022-06-24T12:07:54.594873Z"
    },
    "papermill": {
     "duration": 0.019768,
     "end_time": "2022-06-24T12:07:54.597858",
     "exception": false,
     "start_time": "2022-06-24T12:07:54.578090",
     "status": "completed"
    },
    "tags": []
   },
   "outputs": [
    {
     "data": {
      "text/html": [
       "<div>\n",
       "<style scoped>\n",
       "    .dataframe tbody tr th:only-of-type {\n",
       "        vertical-align: middle;\n",
       "    }\n",
       "\n",
       "    .dataframe tbody tr th {\n",
       "        vertical-align: top;\n",
       "    }\n",
       "\n",
       "    .dataframe thead th {\n",
       "        text-align: right;\n",
       "    }\n",
       "</style>\n",
       "<table border=\"1\" class=\"dataframe\">\n",
       "  <thead>\n",
       "    <tr style=\"text-align: right;\">\n",
       "      <th></th>\n",
       "      <th>userId</th>\n",
       "    </tr>\n",
       "  </thead>\n",
       "  <tbody>\n",
       "    <tr>\n",
       "      <th>0</th>\n",
       "      <td>70624</td>\n",
       "    </tr>\n",
       "    <tr>\n",
       "      <th>1</th>\n",
       "      <td>111335</td>\n",
       "    </tr>\n",
       "    <tr>\n",
       "      <th>2</th>\n",
       "      <td>117156</td>\n",
       "    </tr>\n",
       "    <tr>\n",
       "      <th>3</th>\n",
       "      <td>99479</td>\n",
       "    </tr>\n",
       "    <tr>\n",
       "      <th>4</th>\n",
       "      <td>10598</td>\n",
       "    </tr>\n",
       "  </tbody>\n",
       "</table>\n",
       "</div>"
      ],
      "text/plain": [
       "   userId\n",
       "0   70624\n",
       "1  111335\n",
       "2  117156\n",
       "3   99479\n",
       "4   10598"
      ]
     },
     "execution_count": 7,
     "metadata": {},
     "output_type": "execute_result"
    }
   ],
   "source": [
    "userId.head()"
   ]
  },
  {
   "cell_type": "code",
   "execution_count": 8,
   "id": "5dc85bd0",
   "metadata": {
    "execution": {
     "iopub.execute_input": "2022-06-24T12:07:54.614970Z",
     "iopub.status.busy": "2022-06-24T12:07:54.614402Z",
     "iopub.status.idle": "2022-06-24T12:07:54.725056Z",
     "shell.execute_reply": "2022-06-24T12:07:54.724077Z"
    },
    "papermill": {
     "duration": 0.122127,
     "end_time": "2022-06-24T12:07:54.727381",
     "exception": false,
     "start_time": "2022-06-24T12:07:54.605254",
     "status": "completed"
    },
    "tags": []
   },
   "outputs": [],
   "source": [
    "df=userId.merge(Data,left_index=True,right_index=True)"
   ]
  },
  {
   "cell_type": "code",
   "execution_count": 9,
   "id": "11c3e0a6",
   "metadata": {
    "execution": {
     "iopub.execute_input": "2022-06-24T12:07:54.745183Z",
     "iopub.status.busy": "2022-06-24T12:07:54.744779Z",
     "iopub.status.idle": "2022-06-24T12:07:54.756624Z",
     "shell.execute_reply": "2022-06-24T12:07:54.755724Z"
    },
    "papermill": {
     "duration": 0.023598,
     "end_time": "2022-06-24T12:07:54.758579",
     "exception": false,
     "start_time": "2022-06-24T12:07:54.734981",
     "status": "completed"
    },
    "tags": []
   },
   "outputs": [
    {
     "data": {
      "text/html": [
       "<div>\n",
       "<style scoped>\n",
       "    .dataframe tbody tr th:only-of-type {\n",
       "        vertical-align: middle;\n",
       "    }\n",
       "\n",
       "    .dataframe tbody tr th {\n",
       "        vertical-align: top;\n",
       "    }\n",
       "\n",
       "    .dataframe thead th {\n",
       "        text-align: right;\n",
       "    }\n",
       "</style>\n",
       "<table border=\"1\" class=\"dataframe\">\n",
       "  <thead>\n",
       "    <tr style=\"text-align: right;\">\n",
       "      <th></th>\n",
       "      <th>userId</th>\n",
       "      <th>item_id</th>\n",
       "      <th>rating</th>\n",
       "      <th>model_attr</th>\n",
       "      <th>category</th>\n",
       "      <th>year</th>\n",
       "    </tr>\n",
       "  </thead>\n",
       "  <tbody>\n",
       "    <tr>\n",
       "      <th>0</th>\n",
       "      <td>70624</td>\n",
       "      <td>0</td>\n",
       "      <td>5.0</td>\n",
       "      <td>Female</td>\n",
       "      <td>Portable Audio &amp; Video</td>\n",
       "      <td>1999</td>\n",
       "    </tr>\n",
       "    <tr>\n",
       "      <th>1</th>\n",
       "      <td>111335</td>\n",
       "      <td>0</td>\n",
       "      <td>5.0</td>\n",
       "      <td>Female</td>\n",
       "      <td>Portable Audio &amp; Video</td>\n",
       "      <td>1999</td>\n",
       "    </tr>\n",
       "    <tr>\n",
       "      <th>2</th>\n",
       "      <td>117156</td>\n",
       "      <td>0</td>\n",
       "      <td>3.0</td>\n",
       "      <td>Female</td>\n",
       "      <td>Portable Audio &amp; Video</td>\n",
       "      <td>1999</td>\n",
       "    </tr>\n",
       "    <tr>\n",
       "      <th>3</th>\n",
       "      <td>99479</td>\n",
       "      <td>0</td>\n",
       "      <td>1.0</td>\n",
       "      <td>Female</td>\n",
       "      <td>Portable Audio &amp; Video</td>\n",
       "      <td>1999</td>\n",
       "    </tr>\n",
       "    <tr>\n",
       "      <th>4</th>\n",
       "      <td>10598</td>\n",
       "      <td>0</td>\n",
       "      <td>2.0</td>\n",
       "      <td>Female</td>\n",
       "      <td>Portable Audio &amp; Video</td>\n",
       "      <td>1999</td>\n",
       "    </tr>\n",
       "  </tbody>\n",
       "</table>\n",
       "</div>"
      ],
      "text/plain": [
       "   userId  item_id  rating model_attr                category  year\n",
       "0   70624        0     5.0     Female  Portable Audio & Video  1999\n",
       "1  111335        0     5.0     Female  Portable Audio & Video  1999\n",
       "2  117156        0     3.0     Female  Portable Audio & Video  1999\n",
       "3   99479        0     1.0     Female  Portable Audio & Video  1999\n",
       "4   10598        0     2.0     Female  Portable Audio & Video  1999"
      ]
     },
     "execution_count": 9,
     "metadata": {},
     "output_type": "execute_result"
    }
   ],
   "source": [
    "df.head()"
   ]
  },
  {
   "cell_type": "code",
   "execution_count": 10,
   "id": "50001141",
   "metadata": {
    "execution": {
     "iopub.execute_input": "2022-06-24T12:07:54.776830Z",
     "iopub.status.busy": "2022-06-24T12:07:54.776437Z",
     "iopub.status.idle": "2022-06-24T12:07:54.919902Z",
     "shell.execute_reply": "2022-06-24T12:07:54.917910Z"
    },
    "papermill": {
     "duration": 0.155555,
     "end_time": "2022-06-24T12:07:54.922534",
     "exception": false,
     "start_time": "2022-06-24T12:07:54.766979",
     "status": "completed"
    },
    "tags": []
   },
   "outputs": [
    {
     "name": "stdout",
     "output_type": "stream",
     "text": [
      "<class 'pandas.core.frame.DataFrame'>\n",
      "RangeIndex: 1292954 entries, 0 to 1292953\n",
      "Data columns (total 6 columns):\n",
      " #   Column      Non-Null Count    Dtype  \n",
      "---  ------      --------------    -----  \n",
      " 0   userId      1292954 non-null  int64  \n",
      " 1   item_id     1292954 non-null  int64  \n",
      " 2   rating      1292954 non-null  float64\n",
      " 3   model_attr  1292954 non-null  object \n",
      " 4   category    1292954 non-null  object \n",
      " 5   year        1292954 non-null  int64  \n",
      "dtypes: float64(1), int64(3), object(2)\n",
      "memory usage: 59.2+ MB\n"
     ]
    }
   ],
   "source": [
    "df.info()"
   ]
  },
  {
   "cell_type": "code",
   "execution_count": 11,
   "id": "960f290f",
   "metadata": {
    "execution": {
     "iopub.execute_input": "2022-06-24T12:07:54.943042Z",
     "iopub.status.busy": "2022-06-24T12:07:54.942235Z",
     "iopub.status.idle": "2022-06-24T12:07:54.949355Z",
     "shell.execute_reply": "2022-06-24T12:07:54.948546Z"
    },
    "papermill": {
     "duration": 0.017786,
     "end_time": "2022-06-24T12:07:54.951036",
     "exception": false,
     "start_time": "2022-06-24T12:07:54.933250",
     "status": "completed"
    },
    "tags": []
   },
   "outputs": [
    {
     "data": {
      "text/plain": [
       "userId          int64\n",
       "item_id         int64\n",
       "rating        float64\n",
       "model_attr     object\n",
       "category       object\n",
       "year            int64\n",
       "dtype: object"
      ]
     },
     "execution_count": 11,
     "metadata": {},
     "output_type": "execute_result"
    }
   ],
   "source": [
    "df.dtypes"
   ]
  },
  {
   "cell_type": "code",
   "execution_count": 12,
   "id": "787eeaf5",
   "metadata": {
    "execution": {
     "iopub.execute_input": "2022-06-24T12:07:54.968507Z",
     "iopub.status.busy": "2022-06-24T12:07:54.967996Z",
     "iopub.status.idle": "2022-06-24T12:07:54.972693Z",
     "shell.execute_reply": "2022-06-24T12:07:54.972080Z"
    },
    "papermill": {
     "duration": 0.01553,
     "end_time": "2022-06-24T12:07:54.974353",
     "exception": false,
     "start_time": "2022-06-24T12:07:54.958823",
     "status": "completed"
    },
    "tags": []
   },
   "outputs": [
    {
     "data": {
      "text/plain": [
       "(1292954, 6)"
      ]
     },
     "execution_count": 12,
     "metadata": {},
     "output_type": "execute_result"
    }
   ],
   "source": [
    "df.shape"
   ]
  },
  {
   "cell_type": "code",
   "execution_count": 13,
   "id": "3a3f94e0",
   "metadata": {
    "execution": {
     "iopub.execute_input": "2022-06-24T12:07:54.992047Z",
     "iopub.status.busy": "2022-06-24T12:07:54.991631Z",
     "iopub.status.idle": "2022-06-24T12:07:55.243478Z",
     "shell.execute_reply": "2022-06-24T12:07:55.242415Z"
    },
    "papermill": {
     "duration": 0.263498,
     "end_time": "2022-06-24T12:07:55.245553",
     "exception": false,
     "start_time": "2022-06-24T12:07:54.982055",
     "status": "completed"
    },
    "tags": []
   },
   "outputs": [
    {
     "data": {
      "text/html": [
       "<div>\n",
       "<style scoped>\n",
       "    .dataframe tbody tr th:only-of-type {\n",
       "        vertical-align: middle;\n",
       "    }\n",
       "\n",
       "    .dataframe tbody tr th {\n",
       "        vertical-align: top;\n",
       "    }\n",
       "\n",
       "    .dataframe thead th {\n",
       "        text-align: right;\n",
       "    }\n",
       "</style>\n",
       "<table border=\"1\" class=\"dataframe\">\n",
       "  <thead>\n",
       "    <tr style=\"text-align: right;\">\n",
       "      <th></th>\n",
       "      <th>count</th>\n",
       "      <th>mean</th>\n",
       "      <th>std</th>\n",
       "      <th>min</th>\n",
       "      <th>25%</th>\n",
       "      <th>50%</th>\n",
       "      <th>75%</th>\n",
       "      <th>max</th>\n",
       "    </tr>\n",
       "  </thead>\n",
       "  <tbody>\n",
       "    <tr>\n",
       "      <th>userId</th>\n",
       "      <td>1292954.0</td>\n",
       "      <td>69042.332946</td>\n",
       "      <td>40034.308304</td>\n",
       "      <td>1.0</td>\n",
       "      <td>34407.25</td>\n",
       "      <td>69186.0</td>\n",
       "      <td>103577.0</td>\n",
       "      <td>138493.0</td>\n",
       "    </tr>\n",
       "    <tr>\n",
       "      <th>item_id</th>\n",
       "      <td>1292954.0</td>\n",
       "      <td>4183.588261</td>\n",
       "      <td>2525.345511</td>\n",
       "      <td>0.0</td>\n",
       "      <td>2018.00</td>\n",
       "      <td>3930.0</td>\n",
       "      <td>6289.0</td>\n",
       "      <td>9559.0</td>\n",
       "    </tr>\n",
       "    <tr>\n",
       "      <th>rating</th>\n",
       "      <td>1292954.0</td>\n",
       "      <td>4.051482</td>\n",
       "      <td>1.379732</td>\n",
       "      <td>1.0</td>\n",
       "      <td>4.00</td>\n",
       "      <td>5.0</td>\n",
       "      <td>5.0</td>\n",
       "      <td>5.0</td>\n",
       "    </tr>\n",
       "    <tr>\n",
       "      <th>year</th>\n",
       "      <td>1292954.0</td>\n",
       "      <td>2012.938317</td>\n",
       "      <td>2.643513</td>\n",
       "      <td>1999.0</td>\n",
       "      <td>2012.00</td>\n",
       "      <td>2014.0</td>\n",
       "      <td>2015.0</td>\n",
       "      <td>2018.0</td>\n",
       "    </tr>\n",
       "  </tbody>\n",
       "</table>\n",
       "</div>"
      ],
      "text/plain": [
       "             count          mean           std     min       25%      50%  \\\n",
       "userId   1292954.0  69042.332946  40034.308304     1.0  34407.25  69186.0   \n",
       "item_id  1292954.0   4183.588261   2525.345511     0.0   2018.00   3930.0   \n",
       "rating   1292954.0      4.051482      1.379732     1.0      4.00      5.0   \n",
       "year     1292954.0   2012.938317      2.643513  1999.0   2012.00   2014.0   \n",
       "\n",
       "              75%       max  \n",
       "userId   103577.0  138493.0  \n",
       "item_id    6289.0    9559.0  \n",
       "rating        5.0       5.0  \n",
       "year       2015.0    2018.0  "
      ]
     },
     "execution_count": 13,
     "metadata": {},
     "output_type": "execute_result"
    }
   ],
   "source": [
    "df.describe().T"
   ]
  },
  {
   "cell_type": "markdown",
   "id": "f0c99210",
   "metadata": {
    "papermill": {
     "duration": 0.008026,
     "end_time": "2022-06-24T12:07:55.261607",
     "exception": false,
     "start_time": "2022-06-24T12:07:55.253581",
     "status": "completed"
    },
    "tags": []
   },
   "source": [
    "<a id=\"2\"></a>\n",
    "\n",
    "\n",
    "# MISSING VALUES"
   ]
  },
  {
   "cell_type": "code",
   "execution_count": 14,
   "id": "c4f05872",
   "metadata": {
    "execution": {
     "iopub.execute_input": "2022-06-24T12:07:55.279815Z",
     "iopub.status.busy": "2022-06-24T12:07:55.279404Z",
     "iopub.status.idle": "2022-06-24T12:07:55.400036Z",
     "shell.execute_reply": "2022-06-24T12:07:55.399151Z"
    },
    "papermill": {
     "duration": 0.132121,
     "end_time": "2022-06-24T12:07:55.402042",
     "exception": false,
     "start_time": "2022-06-24T12:07:55.269921",
     "status": "completed"
    },
    "tags": []
   },
   "outputs": [
    {
     "data": {
      "text/plain": [
       "False"
      ]
     },
     "execution_count": 14,
     "metadata": {},
     "output_type": "execute_result"
    }
   ],
   "source": [
    "df.isnull().values.any()"
   ]
  },
  {
   "cell_type": "code",
   "execution_count": 15,
   "id": "64ceccf9",
   "metadata": {
    "execution": {
     "iopub.execute_input": "2022-06-24T12:07:55.419804Z",
     "iopub.status.busy": "2022-06-24T12:07:55.418960Z",
     "iopub.status.idle": "2022-06-24T12:07:55.541517Z",
     "shell.execute_reply": "2022-06-24T12:07:55.540499Z"
    },
    "papermill": {
     "duration": 0.133932,
     "end_time": "2022-06-24T12:07:55.543896",
     "exception": false,
     "start_time": "2022-06-24T12:07:55.409964",
     "status": "completed"
    },
    "tags": []
   },
   "outputs": [
    {
     "data": {
      "text/plain": [
       "userId        0\n",
       "item_id       0\n",
       "rating        0\n",
       "model_attr    0\n",
       "category      0\n",
       "year          0\n",
       "dtype: int64"
      ]
     },
     "execution_count": 15,
     "metadata": {},
     "output_type": "execute_result"
    }
   ],
   "source": [
    "df.isnull().sum()"
   ]
  },
  {
   "cell_type": "markdown",
   "id": "1840ba85",
   "metadata": {
    "papermill": {
     "duration": 0.007618,
     "end_time": "2022-06-24T12:07:55.559678",
     "exception": false,
     "start_time": "2022-06-24T12:07:55.552060",
     "status": "completed"
    },
    "tags": []
   },
   "source": [
    "<a id=\"3\"></a>\n",
    "\n",
    "# VARIABLE ANALYSIS"
   ]
  },
  {
   "cell_type": "markdown",
   "id": "73b5bae1",
   "metadata": {
    "papermill": {
     "duration": 0.007616,
     "end_time": "2022-06-24T12:07:55.575307",
     "exception": false,
     "start_time": "2022-06-24T12:07:55.567691",
     "status": "completed"
    },
    "tags": []
   },
   "source": [
    "<a id=\"4\"></a>\n",
    "\n",
    "\n",
    "\n",
    "## Categorical Variables"
   ]
  },
  {
   "cell_type": "code",
   "execution_count": 16,
   "id": "ac95f665",
   "metadata": {
    "execution": {
     "iopub.execute_input": "2022-06-24T12:07:55.592648Z",
     "iopub.status.busy": "2022-06-24T12:07:55.592273Z",
     "iopub.status.idle": "2022-06-24T12:07:55.683984Z",
     "shell.execute_reply": "2022-06-24T12:07:55.683091Z"
    },
    "papermill": {
     "duration": 0.102559,
     "end_time": "2022-06-24T12:07:55.685839",
     "exception": false,
     "start_time": "2022-06-24T12:07:55.583280",
     "status": "completed"
    },
    "tags": []
   },
   "outputs": [
    {
     "data": {
      "text/plain": [
       "Female         481171\n",
       "Male           429715\n",
       "Female&Male    382068\n",
       "Name: model_attr, dtype: int64"
      ]
     },
     "execution_count": 16,
     "metadata": {},
     "output_type": "execute_result"
    }
   ],
   "source": [
    "df[\"model_attr\"].value_counts()"
   ]
  },
  {
   "cell_type": "code",
   "execution_count": 17,
   "id": "6a6d2652",
   "metadata": {
    "execution": {
     "iopub.execute_input": "2022-06-24T12:07:55.704219Z",
     "iopub.status.busy": "2022-06-24T12:07:55.703632Z",
     "iopub.status.idle": "2022-06-24T12:07:55.802730Z",
     "shell.execute_reply": "2022-06-24T12:07:55.801567Z"
    },
    "papermill": {
     "duration": 0.110759,
     "end_time": "2022-06-24T12:07:55.804933",
     "exception": false,
     "start_time": "2022-06-24T12:07:55.694174",
     "status": "completed"
    },
    "tags": []
   },
   "outputs": [
    {
     "data": {
      "text/plain": [
       "Headphones                 359334\n",
       "Computers & Accessories    322938\n",
       "Camera & Photo             192573\n",
       "Accessories & Supplies     158598\n",
       "Portable Audio & Video     143370\n",
       "Car Electronics & GPS       33070\n",
       "Television & Video          32057\n",
       "Home Audio                  24193\n",
       "Wearable Technology         16015\n",
       "Security & Surveillance     10806\n",
       "Name: category, dtype: int64"
      ]
     },
     "execution_count": 17,
     "metadata": {},
     "output_type": "execute_result"
    }
   ],
   "source": [
    "df[\"category\"].value_counts()"
   ]
  },
  {
   "cell_type": "markdown",
   "id": "90854e2a",
   "metadata": {
    "papermill": {
     "duration": 0.008129,
     "end_time": "2022-06-24T12:07:55.821542",
     "exception": false,
     "start_time": "2022-06-24T12:07:55.813413",
     "status": "completed"
    },
    "tags": []
   },
   "source": [
    "<a id=\"5\"></a>\n",
    "\n",
    "## Numerical Variable"
   ]
  },
  {
   "cell_type": "code",
   "execution_count": 18,
   "id": "c09bb6bf",
   "metadata": {
    "execution": {
     "iopub.execute_input": "2022-06-24T12:07:55.839957Z",
     "iopub.status.busy": "2022-06-24T12:07:55.839601Z",
     "iopub.status.idle": "2022-06-24T12:07:55.863695Z",
     "shell.execute_reply": "2022-06-24T12:07:55.862705Z"
    },
    "papermill": {
     "duration": 0.035758,
     "end_time": "2022-06-24T12:07:55.865596",
     "exception": false,
     "start_time": "2022-06-24T12:07:55.829838",
     "status": "completed"
    },
    "tags": []
   },
   "outputs": [
    {
     "data": {
      "text/plain": [
       "5.0    755755\n",
       "4.0    214166\n",
       "1.0    143755\n",
       "3.0    100630\n",
       "2.0     78648\n",
       "Name: rating, dtype: int64"
      ]
     },
     "execution_count": 18,
     "metadata": {},
     "output_type": "execute_result"
    }
   ],
   "source": [
    "df.rating.value_counts()"
   ]
  },
  {
   "cell_type": "code",
   "execution_count": 19,
   "id": "bac17414",
   "metadata": {
    "execution": {
     "iopub.execute_input": "2022-06-24T12:07:55.884115Z",
     "iopub.status.busy": "2022-06-24T12:07:55.883731Z",
     "iopub.status.idle": "2022-06-24T12:07:55.898467Z",
     "shell.execute_reply": "2022-06-24T12:07:55.897593Z"
    },
    "papermill": {
     "duration": 0.02629,
     "end_time": "2022-06-24T12:07:55.900410",
     "exception": false,
     "start_time": "2022-06-24T12:07:55.874120",
     "status": "completed"
    },
    "tags": []
   },
   "outputs": [
    {
     "data": {
      "text/plain": [
       "2015    364004\n",
       "2014    275194\n",
       "2013    161695\n",
       "2012    139154\n",
       "2011     87695\n",
       "2016     54598\n",
       "2009     54333\n",
       "2010     50315\n",
       "2008     28520\n",
       "2007     17989\n",
       "2006     16336\n",
       "2005     11577\n",
       "2017     10429\n",
       "2004      7195\n",
       "2018      4624\n",
       "2003      3949\n",
       "2000      3572\n",
       "2002       955\n",
       "2001       702\n",
       "1999       118\n",
       "Name: year, dtype: int64"
      ]
     },
     "execution_count": 19,
     "metadata": {},
     "output_type": "execute_result"
    }
   ],
   "source": [
    "df.year.value_counts()"
   ]
  },
  {
   "cell_type": "markdown",
   "id": "5562ed3b",
   "metadata": {
    "papermill": {
     "duration": 0.008516,
     "end_time": "2022-06-24T12:07:55.917435",
     "exception": false,
     "start_time": "2022-06-24T12:07:55.908919",
     "status": "completed"
    },
    "tags": []
   },
   "source": [
    "<a id=\"6\"></a>\n",
    "\n",
    "# VISUALIZATION"
   ]
  },
  {
   "cell_type": "code",
   "execution_count": 20,
   "id": "42a455a0",
   "metadata": {
    "execution": {
     "iopub.execute_input": "2022-06-24T12:07:55.936774Z",
     "iopub.status.busy": "2022-06-24T12:07:55.935958Z",
     "iopub.status.idle": "2022-06-24T12:07:56.293639Z",
     "shell.execute_reply": "2022-06-24T12:07:56.292728Z"
    },
    "papermill": {
     "duration": 0.36947,
     "end_time": "2022-06-24T12:07:56.295666",
     "exception": false,
     "start_time": "2022-06-24T12:07:55.926196",
     "status": "completed"
    },
    "tags": []
   },
   "outputs": [
    {
     "data": {
      "image/png": "[encoded data removed]",
      "text/plain": [
       "<Figure size 432x288 with 1 Axes>"
      ]
     },
     "metadata": {
      "needs_background": "light"
     },
     "output_type": "display_data"
    }
   ],
   "source": [
    "df[\"model_attr\"].value_counts().plot.bar();"
   ]
  },
  {
   "cell_type": "code",
   "execution_count": 21,
   "id": "7f548c56",
   "metadata": {
    "execution": {
     "iopub.execute_input": "2022-06-24T12:07:56.316702Z",
     "iopub.status.busy": "2022-06-24T12:07:56.316274Z",
     "iopub.status.idle": "2022-06-24T12:07:56.615765Z",
     "shell.execute_reply": "2022-06-24T12:07:56.614899Z"
    },
    "papermill": {
     "duration": 0.312858,
     "end_time": "2022-06-24T12:07:56.617681",
     "exception": false,
     "start_time": "2022-06-24T12:07:56.304823",
     "status": "completed"
    },
    "tags": []
   },
   "outputs": [
    {
     "data": {
      "image/png": "[encoded data removed]",
      "text/plain": [
       "<Figure size 432x288 with 1 Axes>"
      ]
     },
     "metadata": {
      "needs_background": "light"
     },
     "output_type": "display_data"
    }
   ],
   "source": [
    "df[\"category\"].value_counts().plot.bar();"
   ]
  },
  {
   "cell_type": "code",
   "execution_count": 22,
   "id": "0a741b0b",
   "metadata": {
    "execution": {
     "iopub.execute_input": "2022-06-24T12:07:56.638487Z",
     "iopub.status.busy": "2022-06-24T12:07:56.637659Z",
     "iopub.status.idle": "2022-06-24T12:08:16.433547Z",
     "shell.execute_reply": "2022-06-24T12:08:16.432409Z"
    },
    "papermill": {
     "duration": 19.80867,
     "end_time": "2022-06-24T12:08:16.435809",
     "exception": false,
     "start_time": "2022-06-24T12:07:56.627139",
     "status": "completed"
    },
    "tags": []
   },
   "outputs": [
    {
     "data": {
      "image/png": "[encoded data removed]",
      "text/plain": [
       "<Figure size 1080x576 with 1 Axes>"
      ]
     },
     "metadata": {
      "needs_background": "light"
     },
     "output_type": "display_data"
    }
   ],
   "source": [
    "plt.figure(figsize = (15,8))\n",
    "plt.xticks(rotation=90)\n",
    "sns.barplot(x=\"year\",y=\"rating\",data=df)\n",
    "plt.show()"
   ]
  },
  {
   "cell_type": "code",
   "execution_count": 23,
   "id": "c2961d54",
   "metadata": {
    "execution": {
     "iopub.execute_input": "2022-06-24T12:08:16.457353Z",
     "iopub.status.busy": "2022-06-24T12:08:16.456937Z",
     "iopub.status.idle": "2022-06-24T12:08:34.573605Z",
     "shell.execute_reply": "2022-06-24T12:08:34.572622Z"
    },
    "papermill": {
     "duration": 18.129673,
     "end_time": "2022-06-24T12:08:34.575629",
     "exception": false,
     "start_time": "2022-06-24T12:08:16.445956",
     "status": "completed"
    },
    "tags": []
   },
   "outputs": [
    {
     "data": {
      "image/png": "[encoded data removed]",
      "text/plain": [
       "<Figure size 1080x576 with 1 Axes>"
      ]
     },
     "metadata": {
      "needs_background": "light"
     },
     "output_type": "display_data"
    }
   ],
   "source": [
    "plt.figure(figsize = (15,8))\n",
    "sns.barplot(x=\"model_attr\",y=\"rating\",hue=\"category\",data=df);"
   ]
  },
  {
   "cell_type": "code",
   "execution_count": 24,
   "id": "baa5bc12",
   "metadata": {
    "execution": {
     "iopub.execute_input": "2022-06-24T12:08:34.598701Z",
     "iopub.status.busy": "2022-06-24T12:08:34.598320Z",
     "iopub.status.idle": "2022-06-24T12:08:41.180586Z",
     "shell.execute_reply": "2022-06-24T12:08:41.179597Z"
    },
    "papermill": {
     "duration": 6.59621,
     "end_time": "2022-06-24T12:08:41.183057",
     "exception": false,
     "start_time": "2022-06-24T12:08:34.586847",
     "status": "completed"
    },
    "tags": []
   },
   "outputs": [
    {
     "data": {
      "image/png": "[encoded data removed]",
      "text/plain": [
       "<Figure size 1080x576 with 1 Axes>"
      ]
     },
     "metadata": {
      "needs_background": "light"
     },
     "output_type": "display_data"
    }
   ],
   "source": [
    "plt.figure(figsize = (15,8))\n",
    "sns.kdeplot(data=df,x=\"rating\",hue=\"category\",shade=True);"
   ]
  },
  {
   "cell_type": "markdown",
   "id": "540fb6b2",
   "metadata": {
    "papermill": {
     "duration": 0.011789,
     "end_time": "2022-06-24T12:08:41.206484",
     "exception": false,
     "start_time": "2022-06-24T12:08:41.194695",
     "status": "completed"
    },
    "tags": []
   },
   "source": [
    "<a id=\"7\"></a>\n",
    "\n",
    "\n",
    "# RECOMMENDATION SYSTEM"
   ]
  },
  {
   "cell_type": "code",
   "execution_count": 25,
   "id": "f9c61c3c",
   "metadata": {
    "execution": {
     "iopub.execute_input": "2022-06-24T12:08:41.232947Z",
     "iopub.status.busy": "2022-06-24T12:08:41.232131Z",
     "iopub.status.idle": "2022-06-24T12:08:41.256038Z",
     "shell.execute_reply": "2022-06-24T12:08:41.255218Z"
    },
    "papermill": {
     "duration": 0.03936,
     "end_time": "2022-06-24T12:08:41.258217",
     "exception": false,
     "start_time": "2022-06-24T12:08:41.218857",
     "status": "completed"
    },
    "tags": []
   },
   "outputs": [],
   "source": [
    "recommendation_df=df.loc[:,[\"userId\",\"item_id\",\"rating\",\"category\"]]"
   ]
  },
  {
   "cell_type": "code",
   "execution_count": 26,
   "id": "fb2d2730",
   "metadata": {
    "execution": {
     "iopub.execute_input": "2022-06-24T12:08:41.282620Z",
     "iopub.status.busy": "2022-06-24T12:08:41.282042Z",
     "iopub.status.idle": "2022-06-24T12:08:41.291964Z",
     "shell.execute_reply": "2022-06-24T12:08:41.291305Z"
    },
    "papermill": {
     "duration": 0.024012,
     "end_time": "2022-06-24T12:08:41.293834",
     "exception": false,
     "start_time": "2022-06-24T12:08:41.269822",
     "status": "completed"
    },
    "tags": []
   },
   "outputs": [
    {
     "data": {
      "text/html": [
       "<div>\n",
       "<style scoped>\n",
       "    .dataframe tbody tr th:only-of-type {\n",
       "        vertical-align: middle;\n",
       "    }\n",
       "\n",
       "    .dataframe tbody tr th {\n",
       "        vertical-align: top;\n",
       "    }\n",
       "\n",
       "    .dataframe thead th {\n",
       "        text-align: right;\n",
       "    }\n",
       "</style>\n",
       "<table border=\"1\" class=\"dataframe\">\n",
       "  <thead>\n",
       "    <tr style=\"text-align: right;\">\n",
       "      <th></th>\n",
       "      <th>userId</th>\n",
       "      <th>item_id</th>\n",
       "      <th>rating</th>\n",
       "      <th>category</th>\n",
       "    </tr>\n",
       "  </thead>\n",
       "  <tbody>\n",
       "    <tr>\n",
       "      <th>0</th>\n",
       "      <td>70624</td>\n",
       "      <td>0</td>\n",
       "      <td>5.0</td>\n",
       "      <td>Portable Audio &amp; Video</td>\n",
       "    </tr>\n",
       "    <tr>\n",
       "      <th>1</th>\n",
       "      <td>111335</td>\n",
       "      <td>0</td>\n",
       "      <td>5.0</td>\n",
       "      <td>Portable Audio &amp; Video</td>\n",
       "    </tr>\n",
       "    <tr>\n",
       "      <th>2</th>\n",
       "      <td>117156</td>\n",
       "      <td>0</td>\n",
       "      <td>3.0</td>\n",
       "      <td>Portable Audio &amp; Video</td>\n",
       "    </tr>\n",
       "    <tr>\n",
       "      <th>3</th>\n",
       "      <td>99479</td>\n",
       "      <td>0</td>\n",
       "      <td>1.0</td>\n",
       "      <td>Portable Audio &amp; Video</td>\n",
       "    </tr>\n",
       "    <tr>\n",
       "      <th>4</th>\n",
       "      <td>10598</td>\n",
       "      <td>0</td>\n",
       "      <td>2.0</td>\n",
       "      <td>Portable Audio &amp; Video</td>\n",
       "    </tr>\n",
       "  </tbody>\n",
       "</table>\n",
       "</div>"
      ],
      "text/plain": [
       "   userId  item_id  rating                category\n",
       "0   70624        0     5.0  Portable Audio & Video\n",
       "1  111335        0     5.0  Portable Audio & Video\n",
       "2  117156        0     3.0  Portable Audio & Video\n",
       "3   99479        0     1.0  Portable Audio & Video\n",
       "4   10598        0     2.0  Portable Audio & Video"
      ]
     },
     "execution_count": 26,
     "metadata": {},
     "output_type": "execute_result"
    }
   ],
   "source": [
    "recommendation_df.head()"
   ]
  },
  {
   "cell_type": "code",
   "execution_count": 27,
   "id": "56088e9a",
   "metadata": {
    "execution": {
     "iopub.execute_input": "2022-06-24T12:08:41.319457Z",
     "iopub.status.busy": "2022-06-24T12:08:41.318931Z",
     "iopub.status.idle": "2022-06-24T12:08:42.045374Z",
     "shell.execute_reply": "2022-06-24T12:08:42.044390Z"
    },
    "papermill": {
     "duration": 0.741595,
     "end_time": "2022-06-24T12:08:42.047326",
     "exception": false,
     "start_time": "2022-06-24T12:08:41.305731",
     "status": "completed"
    },
    "tags": []
   },
   "outputs": [
    {
     "data": {
      "text/html": [
       "<div>\n",
       "<style scoped>\n",
       "    .dataframe tbody tr th:only-of-type {\n",
       "        vertical-align: middle;\n",
       "    }\n",
       "\n",
       "    .dataframe tbody tr th {\n",
       "        vertical-align: top;\n",
       "    }\n",
       "\n",
       "    .dataframe thead th {\n",
       "        text-align: right;\n",
       "    }\n",
       "</style>\n",
       "<table border=\"1\" class=\"dataframe\">\n",
       "  <thead>\n",
       "    <tr style=\"text-align: right;\">\n",
       "      <th>category</th>\n",
       "      <th>Accessories &amp; Supplies</th>\n",
       "      <th>Camera &amp; Photo</th>\n",
       "      <th>Car Electronics &amp; GPS</th>\n",
       "      <th>Computers &amp; Accessories</th>\n",
       "      <th>Headphones</th>\n",
       "      <th>Home Audio</th>\n",
       "      <th>Portable Audio &amp; Video</th>\n",
       "      <th>Security &amp; Surveillance</th>\n",
       "      <th>Television &amp; Video</th>\n",
       "      <th>Wearable Technology</th>\n",
       "    </tr>\n",
       "    <tr>\n",
       "      <th>userId</th>\n",
       "      <th></th>\n",
       "      <th></th>\n",
       "      <th></th>\n",
       "      <th></th>\n",
       "      <th></th>\n",
       "      <th></th>\n",
       "      <th></th>\n",
       "      <th></th>\n",
       "      <th></th>\n",
       "      <th></th>\n",
       "    </tr>\n",
       "  </thead>\n",
       "  <tbody>\n",
       "    <tr>\n",
       "      <th>1</th>\n",
       "      <td>5.0</td>\n",
       "      <td>NaN</td>\n",
       "      <td>NaN</td>\n",
       "      <td>4.0</td>\n",
       "      <td>4.600000</td>\n",
       "      <td>NaN</td>\n",
       "      <td>NaN</td>\n",
       "      <td>NaN</td>\n",
       "      <td>NaN</td>\n",
       "      <td>5.0</td>\n",
       "    </tr>\n",
       "    <tr>\n",
       "      <th>2</th>\n",
       "      <td>NaN</td>\n",
       "      <td>5.0</td>\n",
       "      <td>NaN</td>\n",
       "      <td>5.0</td>\n",
       "      <td>NaN</td>\n",
       "      <td>NaN</td>\n",
       "      <td>4.0</td>\n",
       "      <td>NaN</td>\n",
       "      <td>NaN</td>\n",
       "      <td>NaN</td>\n",
       "    </tr>\n",
       "    <tr>\n",
       "      <th>3</th>\n",
       "      <td>5.0</td>\n",
       "      <td>5.0</td>\n",
       "      <td>NaN</td>\n",
       "      <td>3.0</td>\n",
       "      <td>4.142857</td>\n",
       "      <td>NaN</td>\n",
       "      <td>NaN</td>\n",
       "      <td>NaN</td>\n",
       "      <td>1.0</td>\n",
       "      <td>NaN</td>\n",
       "    </tr>\n",
       "    <tr>\n",
       "      <th>4</th>\n",
       "      <td>NaN</td>\n",
       "      <td>NaN</td>\n",
       "      <td>NaN</td>\n",
       "      <td>NaN</td>\n",
       "      <td>3.000000</td>\n",
       "      <td>NaN</td>\n",
       "      <td>NaN</td>\n",
       "      <td>NaN</td>\n",
       "      <td>NaN</td>\n",
       "      <td>NaN</td>\n",
       "    </tr>\n",
       "    <tr>\n",
       "      <th>5</th>\n",
       "      <td>NaN</td>\n",
       "      <td>NaN</td>\n",
       "      <td>NaN</td>\n",
       "      <td>5.0</td>\n",
       "      <td>5.000000</td>\n",
       "      <td>NaN</td>\n",
       "      <td>NaN</td>\n",
       "      <td>NaN</td>\n",
       "      <td>NaN</td>\n",
       "      <td>NaN</td>\n",
       "    </tr>\n",
       "  </tbody>\n",
       "</table>\n",
       "</div>"
      ],
      "text/plain": [
       "category  Accessories & Supplies  Camera & Photo  Car Electronics & GPS  \\\n",
       "userId                                                                    \n",
       "1                            5.0             NaN                    NaN   \n",
       "2                            NaN             5.0                    NaN   \n",
       "3                            5.0             5.0                    NaN   \n",
       "4                            NaN             NaN                    NaN   \n",
       "5                            NaN             NaN                    NaN   \n",
       "\n",
       "category  Computers & Accessories  Headphones  Home Audio  \\\n",
       "userId                                                      \n",
       "1                             4.0    4.600000         NaN   \n",
       "2                             5.0         NaN         NaN   \n",
       "3                             3.0    4.142857         NaN   \n",
       "4                             NaN    3.000000         NaN   \n",
       "5                             5.0    5.000000         NaN   \n",
       "\n",
       "category  Portable Audio & Video  Security & Surveillance  Television & Video  \\\n",
       "userId                                                                          \n",
       "1                            NaN                      NaN                 NaN   \n",
       "2                            4.0                      NaN                 NaN   \n",
       "3                            NaN                      NaN                 1.0   \n",
       "4                            NaN                      NaN                 NaN   \n",
       "5                            NaN                      NaN                 NaN   \n",
       "\n",
       "category  Wearable Technology  \n",
       "userId                         \n",
       "1                         5.0  \n",
       "2                         NaN  \n",
       "3                         NaN  \n",
       "4                         NaN  \n",
       "5                         NaN  "
      ]
     },
     "execution_count": 27,
     "metadata": {},
     "output_type": "execute_result"
    }
   ],
   "source": [
    "pivot_table=recommendation_df.pivot_table(index=[\"userId\"],columns=[\"category\"],values=\"rating\")\n",
    "pivot_table.head()"
   ]
  },
  {
   "cell_type": "code",
   "execution_count": 28,
   "id": "678773e4",
   "metadata": {
    "execution": {
     "iopub.execute_input": "2022-06-24T12:08:42.073963Z",
     "iopub.status.busy": "2022-06-24T12:08:42.073536Z",
     "iopub.status.idle": "2022-06-24T12:08:42.113191Z",
     "shell.execute_reply": "2022-06-24T12:08:42.112478Z"
    },
    "papermill": {
     "duration": 0.055734,
     "end_time": "2022-06-24T12:08:42.114884",
     "exception": false,
     "start_time": "2022-06-24T12:08:42.059150",
     "status": "completed"
    },
    "tags": []
   },
   "outputs": [
    {
     "data": {
      "text/plain": [
       "category\n",
       "Security & Surveillance    0.019031\n",
       "Camera & Photo             0.003164\n",
       "dtype: float64"
      ]
     },
     "execution_count": 28,
     "metadata": {},
     "output_type": "execute_result"
    }
   ],
   "source": [
    "ıfBuy=pivot_table[\"Headphones\"]\n",
    "canBuy=pivot_table.corrwith(ıfBuy)\n",
    "canBuy=canBuy.sort_values(ascending=False)\n",
    "canBuy.head(3)[1:3]"
   ]
  }
 ],
 "metadata": {
  "kernelspec": {
   "display_name": "Python 3 (ipykernel)",
   "language": "python",
   "name": "python3"
  },
  "language_info": {
   "codemirror_mode": {
    "name": "ipython",
    "version": 3
   },
   "file_extension": ".py",
   "mimetype": "text/x-python",
   "name": "python",
   "nbconvert_exporter": "python",
   "pygments_lexer": "ipython3",
   "version": "3.9.7"
  },
  "papermill": {
   "default_parameters": {},
   "duration": 75.237935,
   "end_time": "2022-06-24T12:08:43.373111",
   "environment_variables": {},
   "exception": null,
   "input_path": "__notebook__.ipynb",
   "output_path": "__notebook__.ipynb",
   "parameters": {},
   "start_time": "2022-06-24T12:07:28.135176",
   "version": "2.3.4"
  }
 },
 "nbformat": 4,
 "nbformat_minor": 5
}
